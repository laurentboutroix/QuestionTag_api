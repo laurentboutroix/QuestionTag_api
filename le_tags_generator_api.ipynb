{
 "cells": [
  {
   "cell_type": "code",
   "execution_count": 2,
   "id": "da823a0b",
   "metadata": {},
   "outputs": [],
   "source": [
    "#pip install gradio"
   ]
  },
  {
   "cell_type": "code",
   "execution_count": 3,
   "id": "707f8d15",
   "metadata": {},
   "outputs": [],
   "source": [
    "import pandas as pd\n",
    "import re\n",
    "import spacy\n",
    "from bs4 import BeautifulSoup\n",
    "\n",
    "import gradio as gr\n",
    "\n",
    "import joblib"
   ]
  },
  {
   "cell_type": "code",
   "execution_count": 4,
   "id": "40f40890",
   "metadata": {},
   "outputs": [],
   "source": [
    "def tag_generator(text):\n",
    "    text = text.lower()\n",
    "    text = re.sub(\"node.js\", \"nodedotjs\", text)\n",
    "    text = re.sub(\"node js\", \"nodedotjs\", text)\n",
    "    text = re.sub(\"vue.js\", \"vuedotjs \", text)\n",
    "    text = re.sub(\"asp.net-mvc\",\"aspnetmvc\", text)\n",
    "    text = re.sub(\"model view controller\",\"mvc\", text)\n",
    "    text = re.sub(\"model-view-controller\",\"mvc\", text)\n",
    "    text = re.sub(\"asp.net\",\"aspnet\", text)\n",
    "    text = re.sub(\"asp net\", \"aspnet\", text)\n",
    "    text = re.sub(\"c#\",\"csharp\", text)\n",
    "    text = re.sub(\"\\.net\",\"dotnet\", text)\n",
    "    text = re.sub(\"\\.js\",\"dotjavascript\", text)\n",
    "    text = re.sub(\"js\", \"javascript\", text)           \n",
    "    text = re.sub(\"windows11\",\"windowseleven\", text)\n",
    "    text = re.sub(\"windows10\",\"windowsten\", text)\n",
    "    text = re.sub(\"office2000\",\"officetwothousand\", text)\n",
    "    text = re.sub(\"windows7\",\"windowsseven\", text)\n",
    "    text = re.sub(\"windows365\",\"windowsthreehundredsixtyfive\", text)\n",
    "    text = re.sub(\"x11\",\"xeleven\", text)\n",
    "    text = re.sub(\"office2003\",\"officetwothousandthree\", text)\n",
    "    text = re.sub(\"office2007\",\"officetwothousandseven\", text)\n",
    "    text = re.sub(\"office2010\",\"officetwothousandten\", text)\n",
    "    text = re.sub(\"office2013\",\"officetwothousandthirteen\", text) \n",
    "    text = re.sub(\"office2016\",\"officetwothousandsixteen\", text)\n",
    "    text = re.sub(\"office2019\",\"officetwothousandnineteen\", text)\n",
    "    text = re.sub(\"ipv4\",\"ipvfor\", text)\n",
    "    text = re.sub(\"ipv6\",\"ipvsix\", text) \n",
    "    text = re.sub(\"2d\",\"twodimensions\", text)\n",
    "    text = re.sub(\"3d\",\"threedimensions\", text)\n",
    "    text = re.sub(\"4d\",\"fordimensions\", text)\n",
    "    text = re.sub(\"caff2\",\"cafftwo\", text) \n",
    "    text = re.sub(\"\\.io\",\"dotio\", text)\n",
    "    text = re.sub(\"\\.com\",\"dotcom\", text)\n",
    "    text = re.sub(\"objective-c\",\"objectivec\", text)\n",
    "    text = re.sub(\"objective c\", \"objectivec\", text)\n",
    "    text = re.sub(\"f#\",\"fsharp\", text)\n",
    "    text = re.sub(\"ms\",\"microsoft\", text)\n",
    "    text = re.sub(\"for miscrosoft\",\"formicrosoft\", text) \n",
    "    text = re.sub(\"internet information services \", \"iis\", text)\n",
    "    text = re.sub(\"language integrated query\", \"linq\", text)\n",
    "    text = re.sub(\"mac operating system\", \"macos\", text)\n",
    "    text = re.sub(\"mac os\", \"macos\", text)    \n",
    "    text = re.sub(\"object oriented programming\", \"oop\", text)\n",
    "    text = re.sub(\"object-oriented programming\", \"oop\", text)\n",
    "    text = re.sub(\"regular expression\", \"regex\", text)\n",
    "    text = re.sub(\"subversion\", \"svn\", text)\n",
    "    text = re.sub(\"visual basic for application\", \"vba\", text)\n",
    "    text = re.sub(\"visual basic .net\", \"vb.net\", text)\n",
    "    text = re.sub(\"visual basic\", \"vba\", text)    \n",
    "    text = re.sub(\"windows communication foundation\", \"wcf\", text)\n",
    "    text = re.sub(\"win for microsoft\", \"winformicrosoft\", text)\n",
    "    text = re.sub(\"windows presentation foundation\", \"wpf\", text)\n",
    "    text = re.sub(\"nodedotjavascript\", \"nodedotjs\", text)\n",
    "    text = re.sub(\"vuedotjavascript\", \"vuedotjs \", text)\n",
    "    text = BeautifulSoup(text, \"lxml\").get_text()\n",
    "    text = re.sub(\"[^a-zA-Z+]\", \" \", text)\n",
    "    text = nlp(text) #Filter on POS tags and StopWords      \n",
    "    text = [word.lemma_ for word in text if (word.pos_ in keep_postags)]  #Words to lemma \n",
    "    text = [w for w in text if len(w) > 2 or w in little_words] # filtre des mots comportant mois de 3 lettres mis à part ceux inclus dans la liste little_words\n",
    "    text1 = pd.DataFrame(columns=[\"col\"]) # création d'un dataframe dans lequel on insère en indice (0,0) l'ouput obtenu avec la fonction word_pos_lemma()\n",
    "    text1.at[0, 'col'] = text\n",
    "    text = loaded_vectorizer.transform(text1.col)\n",
    "    y_pred = loaded_model.predict(text)\n",
    "    tag_pred = mlb_load.inverse_transform(y_pred)\n",
    "    return tag_pred"
   ]
  },
  {
   "cell_type": "code",
   "execution_count": 5,
   "id": "4602e653",
   "metadata": {},
   "outputs": [],
   "source": [
    "nlp = spacy.load('en_core_web_sm')\n",
    "keep_postags = ['NOUN', 'ADJ', 'VERB', \"ADV\",\"ADP\", 'X', 'PROPN']\n",
    "little_words = ['c', 'r', 'x', 'on', 'qt']\n",
    "\n",
    "vectorizer = \"./le_tfidf_vectorizer.pkl\"\n",
    "loaded_vectorizer = joblib.load(vectorizer)\n",
    "\n",
    "model = \"./le_best_model.pkl\"\n",
    "loaded_model = joblib.load(model)\n",
    "\n",
    "mbl = \"./le_multilabel_binarizer.pkl\"\n",
    "mlb_load = joblib.load(mbl)"
   ]
  },
  {
   "cell_type": "code",
   "execution_count": 6,
   "id": "f0bbb55d",
   "metadata": {},
   "outputs": [
    {
     "name": "stdout",
     "output_type": "stream",
     "text": [
      "Running on local URL:  http://127.0.0.1:7860/\n",
      "Running on public URL: https://49594.gradio.app\n",
      "\n",
      "This share link expires in 72 hours. For free permanent hosting, check out Spaces (https://huggingface.co/spaces)\n"
     ]
    },
    {
     "data": {
      "text/html": [
       "\n",
       "        <iframe\n",
       "            width=\"900\"\n",
       "            height=\"500\"\n",
       "            src=\"https://49594.gradio.app\"\n",
       "            frameborder=\"0\"\n",
       "            allowfullscreen\n",
       "            \n",
       "        ></iframe>\n",
       "        "
      ],
      "text/plain": [
       "<IPython.lib.display.IFrame at 0x17e8bfcfa30>"
      ]
     },
     "metadata": {},
     "output_type": "display_data"
    },
    {
     "data": {
      "text/plain": [
       "(<fastapi.applications.FastAPI at 0x17efc0a2610>,\n",
       " 'http://127.0.0.1:7860/',\n",
       " 'https://49594.gradio.app')"
      ]
     },
     "execution_count": 6,
     "metadata": {},
     "output_type": "execute_result"
    }
   ],
   "source": [
    "tagstack = gr.Interface(fn=tag_generator, title=\"Stack Overflow Tags generator\", description=\"Hello you, to get a suggestion of the most frequently encountered tags on stackoverflow.com, please write in English the title of the question followed by the body of the question in an explicit and clear way specifying the technical environment of the subject.\", inputs=[\"textbox\"], outputs=\"textbox\")\n",
    "tagstack.launch(share=True)"
   ]
  }
 ],
 "metadata": {
  "kernelspec": {
   "display_name": "Python 3 (ipykernel)",
   "language": "python",
   "name": "python3"
  },
  "language_info": {
   "codemirror_mode": {
    "name": "ipython",
    "version": 3
   },
   "file_extension": ".py",
   "mimetype": "text/x-python",
   "name": "python",
   "nbconvert_exporter": "python",
   "pygments_lexer": "ipython3",
   "version": "3.8.12"
  }
 },
 "nbformat": 4,
 "nbformat_minor": 5
}
